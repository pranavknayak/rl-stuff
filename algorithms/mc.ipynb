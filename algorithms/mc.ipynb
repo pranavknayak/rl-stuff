{
 "cells": [
  {
   "cell_type": "code",
   "execution_count": 4,
   "metadata": {},
   "outputs": [],
   "source": [
    "import numpy as np\n",
    "import gymnasium as gym\n",
    "from gymnasium import Env\n"
   ]
  },
  {
   "cell_type": "code",
   "execution_count": 47,
   "metadata": {},
   "outputs": [
    {
     "data": {
      "text/plain": [
       "32"
      ]
     },
     "execution_count": 47,
     "metadata": {},
     "output_type": "execute_result"
    }
   ],
   "source": [
    "env = gym.make('Blackjack-v1')\n",
    "env.reset()\n",
    "env.step(env.action_space.sample())\n"
   ]
  },
  {
   "cell_type": "code",
   "execution_count": 44,
   "metadata": {},
   "outputs": [
    {
     "ename": "AttributeError",
     "evalue": "'Tuple' object has no attribute 'n'",
     "output_type": "error",
     "traceback": [
      "\u001b[0;31m---------------------------------------------------------------------------\u001b[0m",
      "\u001b[0;31mAttributeError\u001b[0m                            Traceback (most recent call last)",
      "\u001b[1;32m/home/fuji/Desktop/desktop/sem7/RL/algorithms/mc.ipynb Cell 3\u001b[0m line \u001b[0;36m2\n\u001b[1;32m     <a href='vscode-notebook-cell:/home/fuji/Desktop/desktop/sem7/RL/algorithms/mc.ipynb#W1sZmlsZQ%3D%3D?line=22'>23</a>\u001b[0m       v[states[t]] \u001b[39m=\u001b[39m np\u001b[39m.\u001b[39mmean(returns[states[t]])\n\u001b[1;32m     <a href='vscode-notebook-cell:/home/fuji/Desktop/desktop/sem7/RL/algorithms/mc.ipynb#W1sZmlsZQ%3D%3D?line=23'>24</a>\u001b[0m   \u001b[39mreturn\u001b[39;00m v\n\u001b[0;32m---> <a href='vscode-notebook-cell:/home/fuji/Desktop/desktop/sem7/RL/algorithms/mc.ipynb#W1sZmlsZQ%3D%3D?line=25'>26</a>\u001b[0m v \u001b[39m=\u001b[39m mc_prediction(env)\u001b[39m.\u001b[39mreshape(\u001b[39m4\u001b[39m, \u001b[39m4\u001b[39m)\n\u001b[1;32m     <a href='vscode-notebook-cell:/home/fuji/Desktop/desktop/sem7/RL/algorithms/mc.ipynb#W1sZmlsZQ%3D%3D?line=26'>27</a>\u001b[0m v\n",
      "\u001b[1;32m/home/fuji/Desktop/desktop/sem7/RL/algorithms/mc.ipynb Cell 3\u001b[0m line \u001b[0;36m2\n\u001b[1;32m      <a href='vscode-notebook-cell:/home/fuji/Desktop/desktop/sem7/RL/algorithms/mc.ipynb#W1sZmlsZQ%3D%3D?line=0'>1</a>\u001b[0m \u001b[39mdef\u001b[39;00m \u001b[39mmc_prediction\u001b[39m(env: gym\u001b[39m.\u001b[39mEnv):\n\u001b[0;32m----> <a href='vscode-notebook-cell:/home/fuji/Desktop/desktop/sem7/RL/algorithms/mc.ipynb#W1sZmlsZQ%3D%3D?line=1'>2</a>\u001b[0m   state_shape \u001b[39m=\u001b[39m env\u001b[39m.\u001b[39;49mobservation_space\u001b[39m.\u001b[39;49mn\n\u001b[1;32m      <a href='vscode-notebook-cell:/home/fuji/Desktop/desktop/sem7/RL/algorithms/mc.ipynb#W1sZmlsZQ%3D%3D?line=2'>3</a>\u001b[0m   v \u001b[39m=\u001b[39m np\u001b[39m.\u001b[39mempty(state_shape)\n\u001b[1;32m      <a href='vscode-notebook-cell:/home/fuji/Desktop/desktop/sem7/RL/algorithms/mc.ipynb#W1sZmlsZQ%3D%3D?line=3'>4</a>\u001b[0m   returns \u001b[39m=\u001b[39m [[] \u001b[39mfor\u001b[39;00m _ \u001b[39min\u001b[39;00m \u001b[39mrange\u001b[39m(state_shape)]\n",
      "\u001b[0;31mAttributeError\u001b[0m: 'Tuple' object has no attribute 'n'"
     ]
    }
   ],
   "source": [
    "def mc_prediction(env: gym.Env):\n",
    "  state_shape = env.observation_space.n\n",
    "  v = np.empty(state_shape)\n",
    "  returns = [[] for _ in range(state_shape)]\n",
    "  epochs = 1000\n",
    "  gamma = 0.99\n",
    "  for e in range(epochs):\n",
    "    states = []\n",
    "    actions = []\n",
    "    rewards = []\n",
    "    s, _ = env.reset()\n",
    "    done = False\n",
    "    while not done:\n",
    "      a = env.action_space.sample()\n",
    "      s, r, done, _, _ = env.step(a)\n",
    "      states.append(s)\n",
    "      actions.append(a)\n",
    "      rewards.append(r)\n",
    "    G = 0\n",
    "    for t in range(len(rewards) - 2, -1, -1):\n",
    "      G = gamma * G + rewards[t+1]\n",
    "      returns[states[t]].append(G)\n",
    "      v[states[t]] = np.mean(returns[states[t]])\n",
    "  return v\n",
    "\n",
    "v = mc_prediction(env).reshape(4, 4)\n",
    "v\n"
   ]
  }
 ],
 "metadata": {
  "kernelspec": {
   "display_name": "rl",
   "language": "python",
   "name": "python3"
  },
  "language_info": {
   "codemirror_mode": {
    "name": "ipython",
    "version": 3
   },
   "file_extension": ".py",
   "mimetype": "text/x-python",
   "name": "python",
   "nbconvert_exporter": "python",
   "pygments_lexer": "ipython3",
   "version": "3.9.18"
  }
 },
 "nbformat": 4,
 "nbformat_minor": 2
}
