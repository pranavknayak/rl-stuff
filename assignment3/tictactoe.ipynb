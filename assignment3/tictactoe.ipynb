{
 "cells": [
  {
   "cell_type": "markdown",
   "metadata": {},
   "source": [
    "<center>Pranav K Nayak - ES20BTECH11035</center>\n",
    "<center>Assignment 3</center>"
   ]
  },
  {
   "cell_type": "markdown",
   "metadata": {},
   "source": [
    "### Problem 2: Game of Tic-Tac-Toe"
   ]
  },
  {
   "cell_type": "code",
   "execution_count": 4,
   "metadata": {},
   "outputs": [],
   "source": [
    "import numpy as np\n",
    "from typing import Union\n"
   ]
  },
  {
   "cell_type": "markdown",
   "metadata": {},
   "source": [
    "#### Part a"
   ]
  },
  {
   "cell_type": "code",
   "execution_count": 8,
   "metadata": {},
   "outputs": [],
   "source": [
    "class TicTacToeEnv:\n",
    "  def __init__(self, start_player: Union[int, str]='random'):\n",
    "    self.board = [['-', '-', '-'],\n",
    "                  ['-', '-', '-'],\n",
    "                  ['-', '-', '-']]\n",
    "    self.player = 1\n",
    "    self.done = False\n",
    "    self.winner = None\n",
    "    self.move_symbols = {1: 'X', -1: 'O'}\n",
    "    self.start_player = np.random.choice([-1, 1]) if start_player == 'random' else start_player\n",
    "\n",
    "  def act(self, player, action_coords):\n",
    "    if self.board[action_coords[0]][action_coords[1]] != '-':\n",
    "      raise ValueError('Invalid action')\n",
    "    else:\n",
    "      self.board[action_coords[0]][action_coords[1]] = self.move_symbols[player]\n",
    "  def print_board(self):\n",
    "    #Print tic tac toe board\n",
    "    print('-------------')\n",
    "    for row in self.board:\n",
    "      print('| ' + ' | '.join(row) + ' |')\n",
    "      print('-------------')\n"
   ]
  },
  {
   "cell_type": "markdown",
   "metadata": {},
   "source": [
    "#### Part b"
   ]
  },
  {
   "cell_type": "code",
   "execution_count": null,
   "metadata": {},
   "outputs": [],
   "source": [
    "class Agent:\n",
    "  def __init__(self, behaviour= 'random', role=1):\n",
    "    self.behaviour = behaviour\n",
    "    self.role=role\n",
    "    self.move_symbol = 'X' if role == 1 else 'O'\n",
    "\n",
    "  def find_blocking_move(self, board):\n",
    "    opponent_symbol = 'O' if self.role == 1 else 'X'\n",
    "    # this is for rows\n",
    "    for i in range(3):\n",
    "      opponent_count = board[i].count(opponent_symbol)\n",
    "      empty_count = board[i].count('-')\n",
    "      if opponent_count == 2 and empty_count == 1:\n",
    "        empty_position = board[i].index('-')\n",
    "        return [i, empty_position]\n",
    "    # this one is for columns\n",
    "    for i in range(3):\n",
    "      column = [board[j][i] for j in range(3)]\n",
    "      opponent_count = column.count(opponent_symbol)\n",
    "      empty_count = column.count('-')\n",
    "      if  opponent_count == 2 and empty_count == 1:\n",
    "        emopty_position = column.index('-')\n",
    "        return [empty_position, i]\n",
    "\n",
    "    diagonal1 = [board[i][i] for i in range(3)]\n",
    "    diagonal2 = [board[i][3 - i - 1] for i in range(3)]\n",
    "    d1_opponent_count = diagonal1.count(opponent_symbol)\n",
    "    d1_empty_count = diagonal1.count('-')\n",
    "    d2_opponent_count = diagonal2.count(opponent_symbol)\n",
    "    d2_empty_count = diagonal2.count('-')\n",
    "    if d1_opponent_count == 2 and d1_empty_count == 1:\n",
    "      d1_empty_position = diagonal1.index('-')\n",
    "      return [d1_empty_position, d1_empty_position]\n",
    "    elif d2_opponent_count == 2 and d2_empty_count == 1:\n",
    "      d2_empty_position = diagonal2.index('-')\n",
    "      return [d2_empty_position, 3 - d2_empty_position - 1]\n",
    "\n",
    "    return None\n",
    "\n",
    "  def find_winning_move(self, board):\n",
    "    self_symbol = 'X' if self.role == 1 else 'O'\n",
    "    # same as before, for rows\n",
    "    for i in range(3):\n",
    "      self_count = board[i].count(self_symbol)\n",
    "      empty_count = board[i].count('-')\n",
    "      if self_count == 2 and empty_count == 1:\n",
    "        empty_position = board[i].index('-')\n",
    "        return [i, empty_position]\n",
    "    # for columns, once again same as before\n",
    "    for i in range(3):\n",
    "      column = [board[j][i] for j in range(3)]\n",
    "      self_count = column.count(self_symbol)\n",
    "      empty_count = column.count('-')\n",
    "      if self_count == 2 and empty_count == 1:\n",
    "        empty_position = column.index('-')\n",
    "        return [empty_position, i]\n",
    "    diagonal1 = [board[i][i] for i in range(3)]\n",
    "    diagonal2 = [board[i][2 - i] for i in range(3)]\n",
    "    d1_self_count = diagonal1.count(self_symbol)\n",
    "    d1_empty_count = diagonal1.count('-')\n",
    "    d2_self_count = diagonal2.count(self_symbol)\n",
    "    d2_empty_count = diagonal2.count('-')\n",
    "    if d1_self_count == 2 and d1_empty_count == 1:\n",
    "      d1_empty_position = diagonal1.index('-')\n",
    "      return [d1_empty_position, d1_empty_position]\n",
    "    elif d2_self_count == 2 and d2_empty_count == 1:\n",
    "      d2_empty_position = diagonal2.index('-')\n",
    "      return [d2_empty_position, 2 - d2_empty_position]\n",
    "\n",
    "    return None\n",
    "\n",
    "  def act(self, env):\n",
    "    if self.behaviour == 'random':\n",
    "      board = env.board\n",
    "      available_actions = []\n",
    "      for i in range(3):\n",
    "        for j in range(3):\n",
    "          if board[i][j] == '-':\n",
    "            available_actions.append((i, j))\n",
    "      return np.random.choice(available_actions)\n",
    "    elif self.behaviour == 'safe':\n",
    "      board = env.board\n",
    "      if self.find_winning_move(board):\n",
    "        return self.find_winning_move(board)\n",
    "      elif self.find_blocking_move(board):\n",
    "        return self.find_blocking_move(board)\n",
    "      else:\n",
    "        available_actions = []\n",
    "        for i in range(3):\n",
    "          for j in range(3):\n",
    "            if board[i][j] == '-':\n",
    "              available_actions.append((i, j))\n",
    "        return np.random.choice(available_actions)\n"
   ]
  },
  {
   "cell_type": "code",
   "execution_count": 14,
   "metadata": {},
   "outputs": [],
   "source": [
    "class TTTEnvWithAgents(TicTacToeEnv):\n",
    "  def __init__(self, agent='random'):\n",
    "    super().__init__(self, start_player=1)\n",
    "    self.agent = Agent(behaviour=agent, role=-1)\n"
   ]
  },
  {
   "cell_type": "markdown",
   "metadata": {},
   "source": [
    "### Part c"
   ]
  }
 ],
 "metadata": {
  "kernelspec": {
   "display_name": "rl",
   "language": "python",
   "name": "python3"
  },
  "language_info": {
   "codemirror_mode": {
    "name": "ipython",
    "version": 3
   },
   "file_extension": ".py",
   "mimetype": "text/x-python",
   "name": "python",
   "nbconvert_exporter": "python",
   "pygments_lexer": "ipython3",
   "version": "3.9.18"
  }
 },
 "nbformat": 4,
 "nbformat_minor": 2
}
